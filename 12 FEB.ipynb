{
 "cells": [
  {
   "attachments": {},
   "cell_type": "markdown",
   "metadata": {},
   "source": [
    "ANSWER 1"
   ]
  },
  {
   "attachments": {},
   "cell_type": "markdown",
   "metadata": {},
   "source": [
    "In Python, an exception is an error that occurs during the execution of a program. When an exception occurs, it interrupts the normal flow of the program and raises an error message. The difference between exceptions and syntax errors is that syntax errors are errors that occur when there is a problem with the program's syntax, whereas exceptions are errors that occur during the execution of the program."
   ]
  },
  {
   "attachments": {},
   "cell_type": "markdown",
   "metadata": {},
   "source": [
    "ANSWER 2"
   ]
  },
  {
   "attachments": {},
   "cell_type": "markdown",
   "metadata": {},
   "source": [
    " When an exception is not handled, it will cause the program to terminate and display an error message. For example, let's say we have a program that read a file and prints its contents to the console. If the file does not exist, the program will raise a FileNotFoundError exception. If we do not handle this exception, the program will terminate and display an error message."
   ]
  },
  {
   "cell_type": "code",
   "execution_count": 11,
   "metadata": {},
   "outputs": [
    {
     "name": "stdout",
     "output_type": "stream",
     "text": [
      "The file does not exist\n"
     ]
    }
   ],
   "source": [
    "try:\n",
    "    with open('file.txt', 'r') as file:\n",
    "        print(file.read())\n",
    "except FileNotFoundError:\n",
    "    print('The file does not exist')\n"
   ]
  },
  {
   "attachments": {},
   "cell_type": "markdown",
   "metadata": {},
   "source": [
    "ANSWER 3"
   ]
  },
  {
   "attachments": {},
   "cell_type": "markdown",
   "metadata": {},
   "source": [
    "Python has two statements that are used to handle exceptions: try and except. The try statement is used to enclose the code that may raise an exception, and the except statement is used to handle the exception. Here's an example:"
   ]
  },
  {
   "cell_type": "code",
   "execution_count": 12,
   "metadata": {},
   "outputs": [
    {
     "name": "stdout",
     "output_type": "stream",
     "text": [
      "Cannot divide by zero\n"
     ]
    }
   ],
   "source": [
    "try:\n",
    "    x = 1 / 0\n",
    "except ZeroDivisionError:\n",
    "    print('Cannot divide by zero')\n"
   ]
  },
  {
   "attachments": {},
   "cell_type": "markdown",
   "metadata": {},
   "source": [
    "ANSWER 4"
   ]
  },
  {
   "attachments": {},
   "cell_type": "markdown",
   "metadata": {},
   "source": [
    " The try, except, else, finally, and raise statements are used to handle exceptions in Python.\n",
    "\n",
    "try: encloses the code that may raise an exception.\n",
    "except: catches the exception and handles it.\n",
    "else: executes if no exceptions are raised in the try block.\n",
    "finally: executes regardless of whether an exception is raised or not.\n",
    "raise: raises an exception manuall"
   ]
  },
  {
   "cell_type": "code",
   "execution_count": 13,
   "metadata": {},
   "outputs": [
    {
     "name": "stdout",
     "output_type": "stream",
     "text": [
      "Cannot divide by zero\n",
      "This code will always execute\n"
     ]
    }
   ],
   "source": [
    "try:\n",
    "    x = 1 / 0\n",
    "except ZeroDivisionError:\n",
    "    print('Cannot divide by zero')\n",
    "else:\n",
    "    print('No exception was raised')\n",
    "finally:\n",
    "    print('This code will always execute')\n"
   ]
  },
  {
   "attachments": {},
   "cell_type": "markdown",
   "metadata": {},
   "source": [
    "ANSWER 5"
   ]
  },
  {
   "attachments": {},
   "cell_type": "markdown",
   "metadata": {},
   "source": [
    "Custom exceptions are exceptions that are created by the programmer. They are used when the built-in exceptions are not sufficient to handle specific errors that may occur in a program. We need custom exceptions to provide more specific and descriptive error messages to the user. Here's an example:"
   ]
  },
  {
   "cell_type": "code",
   "execution_count": 14,
   "metadata": {},
   "outputs": [],
   "source": [
    "class MyCustomException(Exception):\n",
    "    pass\n",
    "\n",
    "try:\n",
    "    x = input('Enter a number: ')\n",
    "    if not x.isnumeric():\n",
    "        raise MyCustomException('Invalid input')\n",
    "    x = int(x)\n",
    "except MyCustomException as e:\n",
    "    print\n"
   ]
  }
 ],
 "metadata": {
  "kernelspec": {
   "display_name": "Python 3",
   "language": "python",
   "name": "python3"
  },
  "language_info": {
   "codemirror_mode": {
    "name": "ipython",
    "version": 3
   },
   "file_extension": ".py",
   "mimetype": "text/x-python",
   "name": "python",
   "nbconvert_exporter": "python",
   "pygments_lexer": "ipython3",
   "version": "3.11.2"
  },
  "orig_nbformat": 4
 },
 "nbformat": 4,
 "nbformat_minor": 2
}
